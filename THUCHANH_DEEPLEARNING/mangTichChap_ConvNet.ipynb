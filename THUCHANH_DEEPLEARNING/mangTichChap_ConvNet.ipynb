{
 "cells": [
  {
   "cell_type": "code",
   "execution_count": 13,
   "id": "afea5dc9",
   "metadata": {},
   "outputs": [],
   "source": [
    "#khai oáo thư viện sử dụng\n",
    "from keras import layers\n",
    "from keras import models\n",
    "from keras.datasets import mnist\n",
    "from tensorflow.keras.utils import to_categorical\n",
    "import matplotlib.pyplot as plt"
   ]
  },
  {
   "cell_type": "code",
   "execution_count": null,
   "id": "204dab86",
   "metadata": {},
   "outputs": [],
   "source": [
    "#xây dựng mô hình mạng nơ-ron tích chập\n",
    "\"\"\"models = models.Sequential()\n",
    "models.add(layers.Conv1D(32, (3, 3), activation='relu', input_shape=(28, 28, 1)))\n",
    "models.add(layers.MaxPooling1D((2, 2))) \n",
    "models.add(layers.MaxPooling1D((2, 2)))\n",
    "models.add(layers.Conv1D(64, (3, 3), activation='relu'))\n",
    "models.add(layers.Conv1D(64, (3, 3), activation='relu'))\n",
    "models.add(layers.Flatten())\n",
    "models.add(layers.Dense(63, activation='relu'))\n",
    "models.add(layers.Dense(9, activation='softmax'))\n",
    "models.compile(optimizer='rmsprop',\n",
    "                loss='categorical_crossentropy',\n",
    "                metrics=['accuracy'])\"\"\"\n",
    "                \n",
    "                \n",
    "                \n",
    "                \n",
    "\"\"\"\"\n",
    "Thêm BatchNormalization\n",
    "Thêm Dropout\n",
    "Tăng số lượng bộ lọc (filters) và tăng số neuron ở lớp Dense\n",
    "để hoàn thành câu b\n",
    "\"\"\"\n",
    "# Xây dựng mô hình mới với BatchNormalization và Dropout\n",
    "model = models.Sequential()\n",
    "\n",
    "# Block 1: 2 Conv2D + BatchNormalization + MaxPooling + Dropout\n",
    "model.add(layers.Conv2D(32, (3, 3), activation='relu', input_shape=(28, 28, 1)))\n",
    "model.add(layers.BatchNormalization())\n",
    "model.add(layers.Conv2D(32, (3, 3), activation='relu'))\n",
    "model.add(layers.BatchNormalization())\n",
    "model.add(layers.MaxPooling2D((2, 2)))\n",
    "model.add(layers.Dropout(0.25))\n",
    "\n",
    "# Block 2: 2 Conv2D + BatchNormalization + MaxPooling + Dropout\n",
    "model.add(layers.Conv2D(64, (3, 3), activation='relu'))\n",
    "model.add(layers.BatchNormalization())\n",
    "model.add(layers.Conv2D(64, (3, 3), activation='relu'))\n",
    "model.add(layers.BatchNormalization())\n",
    "model.add(layers.MaxPooling2D((2, 2)))\n",
    "model.add(layers.Dropout(0.25))\n",
    "\n",
    "# Block 3: Fully Connected\n",
    "model.add(layers.Flatten())\n",
    "model.add(layers.Dense(128, activation='relu'))\n",
    "model.add(layers.BatchNormalization())\n",
    "model.add(layers.Dropout(0.5))\n",
    "model.add(layers.Dense(10, activation='softmax'))\n",
    "\n",
    "# Compile model sử dụng Adam thay vì RMSprop\n",
    "model.compile(optimizer='adam',\n",
    "              loss='categorical_crossentropy',\n",
    "              metrics=['accuracy'])"
   ]
  },
  {
   "cell_type": "code",
   "execution_count": null,
   "id": "e1a91368",
   "metadata": {},
   "outputs": [
    {
     "name": "stdout",
     "output_type": "stream",
     "text": [
      "Epoch 1/20\n",
      "\u001b[1m750/750\u001b[0m \u001b[32m━━━━━━━━━━━━━━━━━━━━\u001b[0m\u001b[37m\u001b[0m \u001b[1m32s\u001b[0m 39ms/step - accuracy: 0.8499 - loss: 0.5135 - val_accuracy: 0.9818 - val_loss: 0.0627\n",
      "Epoch 2/20\n",
      "\u001b[1m750/750\u001b[0m \u001b[32m━━━━━━━━━━━━━━━━━━━━\u001b[0m\u001b[37m\u001b[0m \u001b[1m29s\u001b[0m 39ms/step - accuracy: 0.9763 - loss: 0.0797 - val_accuracy: 0.9892 - val_loss: 0.0364\n",
      "Epoch 3/20\n",
      "\u001b[1m750/750\u001b[0m \u001b[32m━━━━━━━━━━━━━━━━━━━━\u001b[0m\u001b[37m\u001b[0m \u001b[1m30s\u001b[0m 40ms/step - accuracy: 0.9828 - loss: 0.0579 - val_accuracy: 0.9901 - val_loss: 0.0312\n",
      "Epoch 4/20\n",
      "\u001b[1m750/750\u001b[0m \u001b[32m━━━━━━━━━━━━━━━━━━━━\u001b[0m\u001b[37m\u001b[0m \u001b[1m28s\u001b[0m 37ms/step - accuracy: 0.9853 - loss: 0.0477 - val_accuracy: 0.9910 - val_loss: 0.0320\n",
      "Epoch 5/20\n",
      "\u001b[1m750/750\u001b[0m \u001b[32m━━━━━━━━━━━━━━━━━━━━\u001b[0m\u001b[37m\u001b[0m \u001b[1m28s\u001b[0m 37ms/step - accuracy: 0.9887 - loss: 0.0393 - val_accuracy: 0.9898 - val_loss: 0.0350\n",
      "Epoch 6/20\n",
      "\u001b[1m750/750\u001b[0m \u001b[32m━━━━━━━━━━━━━━━━━━━━\u001b[0m\u001b[37m\u001b[0m \u001b[1m28s\u001b[0m 38ms/step - accuracy: 0.9880 - loss: 0.0362 - val_accuracy: 0.9909 - val_loss: 0.0303\n",
      "Epoch 7/20\n",
      "\u001b[1m750/750\u001b[0m \u001b[32m━━━━━━━━━━━━━━━━━━━━\u001b[0m\u001b[37m\u001b[0m \u001b[1m28s\u001b[0m 38ms/step - accuracy: 0.9894 - loss: 0.0357 - val_accuracy: 0.9914 - val_loss: 0.0287\n",
      "Epoch 8/20\n",
      "\u001b[1m750/750\u001b[0m \u001b[32m━━━━━━━━━━━━━━━━━━━━\u001b[0m\u001b[37m\u001b[0m \u001b[1m27s\u001b[0m 37ms/step - accuracy: 0.9905 - loss: 0.0305 - val_accuracy: 0.9923 - val_loss: 0.0248\n",
      "Epoch 9/20\n",
      "\u001b[1m750/750\u001b[0m \u001b[32m━━━━━━━━━━━━━━━━━━━━\u001b[0m\u001b[37m\u001b[0m \u001b[1m28s\u001b[0m 38ms/step - accuracy: 0.9911 - loss: 0.0289 - val_accuracy: 0.9916 - val_loss: 0.0278\n",
      "Epoch 10/20\n",
      "\u001b[1m750/750\u001b[0m \u001b[32m━━━━━━━━━━━━━━━━━━━━\u001b[0m\u001b[37m\u001b[0m \u001b[1m30s\u001b[0m 39ms/step - accuracy: 0.9913 - loss: 0.0275 - val_accuracy: 0.9928 - val_loss: 0.0260\n",
      "Epoch 11/20\n",
      "\u001b[1m750/750\u001b[0m \u001b[32m━━━━━━━━━━━━━━━━━━━━\u001b[0m\u001b[37m\u001b[0m \u001b[1m29s\u001b[0m 38ms/step - accuracy: 0.9917 - loss: 0.0245 - val_accuracy: 0.9927 - val_loss: 0.0249\n",
      "Epoch 12/20\n",
      "\u001b[1m750/750\u001b[0m \u001b[32m━━━━━━━━━━━━━━━━━━━━\u001b[0m\u001b[37m\u001b[0m \u001b[1m28s\u001b[0m 37ms/step - accuracy: 0.9938 - loss: 0.0211 - val_accuracy: 0.9923 - val_loss: 0.0281\n",
      "Epoch 13/20\n",
      "\u001b[1m750/750\u001b[0m \u001b[32m━━━━━━━━━━━━━━━━━━━━\u001b[0m\u001b[37m\u001b[0m \u001b[1m28s\u001b[0m 37ms/step - accuracy: 0.9936 - loss: 0.0199 - val_accuracy: 0.9934 - val_loss: 0.0236\n",
      "Epoch 14/20\n",
      "\u001b[1m750/750\u001b[0m \u001b[32m━━━━━━━━━━━━━━━━━━━━\u001b[0m\u001b[37m\u001b[0m \u001b[1m28s\u001b[0m 37ms/step - accuracy: 0.9928 - loss: 0.0229 - val_accuracy: 0.9940 - val_loss: 0.0232\n",
      "Epoch 15/20\n",
      "\u001b[1m750/750\u001b[0m \u001b[32m━━━━━━━━━━━━━━━━━━━━\u001b[0m\u001b[37m\u001b[0m \u001b[1m28s\u001b[0m 38ms/step - accuracy: 0.9942 - loss: 0.0179 - val_accuracy: 0.9943 - val_loss: 0.0218\n",
      "Epoch 16/20\n",
      "\u001b[1m750/750\u001b[0m \u001b[32m━━━━━━━━━━━━━━━━━━━━\u001b[0m\u001b[37m\u001b[0m \u001b[1m29s\u001b[0m 38ms/step - accuracy: 0.9950 - loss: 0.0145 - val_accuracy: 0.9943 - val_loss: 0.0226\n",
      "Epoch 17/20\n",
      "\u001b[1m750/750\u001b[0m \u001b[32m━━━━━━━━━━━━━━━━━━━━\u001b[0m\u001b[37m\u001b[0m \u001b[1m26s\u001b[0m 35ms/step - accuracy: 0.9949 - loss: 0.0173 - val_accuracy: 0.9942 - val_loss: 0.0247\n",
      "Epoch 18/20\n",
      "\u001b[1m750/750\u001b[0m \u001b[32m━━━━━━━━━━━━━━━━━━━━\u001b[0m\u001b[37m\u001b[0m \u001b[1m27s\u001b[0m 36ms/step - accuracy: 0.9957 - loss: 0.0147 - val_accuracy: 0.9946 - val_loss: 0.0224\n",
      "Epoch 19/20\n",
      "\u001b[1m750/750\u001b[0m \u001b[32m━━━━━━━━━━━━━━━━━━━━\u001b[0m\u001b[37m\u001b[0m \u001b[1m28s\u001b[0m 37ms/step - accuracy: 0.9955 - loss: 0.0141 - val_accuracy: 0.9933 - val_loss: 0.0246\n",
      "Epoch 20/20\n",
      "\u001b[1m750/750\u001b[0m \u001b[32m━━━━━━━━━━━━━━━━━━━━\u001b[0m\u001b[37m\u001b[0m \u001b[1m27s\u001b[0m 37ms/step - accuracy: 0.9956 - loss: 0.0129 - val_accuracy: 0.9927 - val_loss: 0.0279\n"
     ]
    }
   ],
   "source": [
    "#chuẩn bị dữ liệu\n",
    "\"\"\"(train_images, train_labels), (test_images, test_labels) = mnist.load_data()\n",
    "train_images = train_images.reshape((60000, 28, 28, 1))\n",
    "train_images = train_images.astype('float32') / 255\n",
    "test_images = test_images.reshape((10000, 28, 28, 1))\n",
    "test_images = test_images.astype('float32') / 255\n",
    "train_labels = to_categorical(train_labels)\n",
    "test_labels = to_categorical(test_labels)\"\"\"\n",
    "\n",
    "# Chuẩn bị dữ liệu\n",
    "(train_images, train_labels), (test_images, test_labels) = mnist.load_data()\n",
    "train_images = train_images.reshape((60000, 28, 28, 1)).astype('float32') / 255\n",
    "test_images = test_images.reshape((10000, 28, 28, 1)).astype('float32') / 255\n",
    "train_labels = to_categorical(train_labels)\n",
    "test_labels = to_categorical(test_labels)\n",
    "\n",
    "# Huấn luyện mô hình với 20 epoch\n",
    "history = model.fit(train_images, train_labels, epochs=20, batch_size=64, validation_split=0.2)\n"
   ]
  },
  {
   "cell_type": "code",
   "execution_count": 11,
   "id": "1f8772aa",
   "metadata": {},
   "outputs": [
    {
     "name": "stdout",
     "output_type": "stream",
     "text": [
      "Epoch 1/20\n",
      "\u001b[1m750/750\u001b[0m \u001b[32m━━━━━━━━━━━━━━━━━━━━\u001b[0m\u001b[37m\u001b[0m \u001b[1m6s\u001b[0m 8ms/step - accuracy: 1.0000 - loss: 2.3797e-08 - val_accuracy: 1.0000 - val_loss: 1.7019e-07\n",
      "Epoch 2/20\n",
      "\u001b[1m750/750\u001b[0m \u001b[32m━━━━━━━━━━━━━━━━━━━━\u001b[0m\u001b[37m\u001b[0m \u001b[1m6s\u001b[0m 8ms/step - accuracy: 1.0000 - loss: 2.0772e-08 - val_accuracy: 1.0000 - val_loss: 1.7272e-07\n",
      "Epoch 3/20\n",
      "\u001b[1m750/750\u001b[0m \u001b[32m━━━━━━━━━━━━━━━━━━━━\u001b[0m\u001b[37m\u001b[0m \u001b[1m5s\u001b[0m 7ms/step - accuracy: 1.0000 - loss: 2.2379e-08 - val_accuracy: 1.0000 - val_loss: 1.7032e-07\n",
      "Epoch 4/20\n",
      "\u001b[1m750/750\u001b[0m \u001b[32m━━━━━━━━━━━━━━━━━━━━\u001b[0m\u001b[37m\u001b[0m \u001b[1m5s\u001b[0m 7ms/step - accuracy: 1.0000 - loss: 2.6479e-08 - val_accuracy: 1.0000 - val_loss: 1.6989e-07\n",
      "Epoch 5/20\n",
      "\u001b[1m750/750\u001b[0m \u001b[32m━━━━━━━━━━━━━━━━━━━━\u001b[0m\u001b[37m\u001b[0m \u001b[1m5s\u001b[0m 7ms/step - accuracy: 1.0000 - loss: 2.6869e-08 - val_accuracy: 1.0000 - val_loss: 1.7015e-07\n",
      "Epoch 6/20\n",
      "\u001b[1m750/750\u001b[0m \u001b[32m━━━━━━━━━━━━━━━━━━━━\u001b[0m\u001b[37m\u001b[0m \u001b[1m6s\u001b[0m 7ms/step - accuracy: 1.0000 - loss: 2.3410e-08 - val_accuracy: 1.0000 - val_loss: 1.7152e-07\n",
      "Epoch 7/20\n",
      "\u001b[1m750/750\u001b[0m \u001b[32m━━━━━━━━━━━━━━━━━━━━\u001b[0m\u001b[37m\u001b[0m \u001b[1m6s\u001b[0m 7ms/step - accuracy: 1.0000 - loss: 2.3607e-08 - val_accuracy: 1.0000 - val_loss: 1.6962e-07\n",
      "Epoch 8/20\n",
      "\u001b[1m750/750\u001b[0m \u001b[32m━━━━━━━━━━━━━━━━━━━━\u001b[0m\u001b[37m\u001b[0m \u001b[1m6s\u001b[0m 7ms/step - accuracy: 1.0000 - loss: 2.1475e-08 - val_accuracy: 1.0000 - val_loss: 1.7026e-07\n",
      "Epoch 9/20\n",
      "\u001b[1m750/750\u001b[0m \u001b[32m━━━━━━━━━━━━━━━━━━━━\u001b[0m\u001b[37m\u001b[0m \u001b[1m6s\u001b[0m 7ms/step - accuracy: 1.0000 - loss: 2.0915e-08 - val_accuracy: 1.0000 - val_loss: 1.6920e-07\n",
      "Epoch 10/20\n",
      "\u001b[1m750/750\u001b[0m \u001b[32m━━━━━━━━━━━━━━━━━━━━\u001b[0m\u001b[37m\u001b[0m \u001b[1m5s\u001b[0m 7ms/step - accuracy: 1.0000 - loss: 2.0429e-08 - val_accuracy: 1.0000 - val_loss: 1.7065e-07\n",
      "Epoch 11/20\n",
      "\u001b[1m750/750\u001b[0m \u001b[32m━━━━━━━━━━━━━━━━━━━━\u001b[0m\u001b[37m\u001b[0m \u001b[1m5s\u001b[0m 7ms/step - accuracy: 1.0000 - loss: 2.1774e-08 - val_accuracy: 1.0000 - val_loss: 1.7043e-07\n",
      "Epoch 12/20\n",
      "\u001b[1m750/750\u001b[0m \u001b[32m━━━━━━━━━━━━━━━━━━━━\u001b[0m\u001b[37m\u001b[0m \u001b[1m5s\u001b[0m 7ms/step - accuracy: 1.0000 - loss: 2.1080e-08 - val_accuracy: 1.0000 - val_loss: 1.7070e-07\n",
      "Epoch 13/20\n",
      "\u001b[1m750/750\u001b[0m \u001b[32m━━━━━━━━━━━━━━━━━━━━\u001b[0m\u001b[37m\u001b[0m \u001b[1m6s\u001b[0m 8ms/step - accuracy: 1.0000 - loss: 2.1682e-08 - val_accuracy: 1.0000 - val_loss: 1.7043e-07\n",
      "Epoch 14/20\n",
      "\u001b[1m750/750\u001b[0m \u001b[32m━━━━━━━━━━━━━━━━━━━━\u001b[0m\u001b[37m\u001b[0m \u001b[1m5s\u001b[0m 7ms/step - accuracy: 1.0000 - loss: 2.0149e-08 - val_accuracy: 1.0000 - val_loss: 1.6956e-07\n",
      "Epoch 15/20\n",
      "\u001b[1m750/750\u001b[0m \u001b[32m━━━━━━━━━━━━━━━━━━━━\u001b[0m\u001b[37m\u001b[0m \u001b[1m5s\u001b[0m 7ms/step - accuracy: 1.0000 - loss: 2.0115e-08 - val_accuracy: 1.0000 - val_loss: 1.6941e-07\n",
      "Epoch 16/20\n",
      "\u001b[1m750/750\u001b[0m \u001b[32m━━━━━━━━━━━━━━━━━━━━\u001b[0m\u001b[37m\u001b[0m \u001b[1m5s\u001b[0m 7ms/step - accuracy: 1.0000 - loss: 2.3393e-08 - val_accuracy: 1.0000 - val_loss: 1.6852e-07\n",
      "Epoch 17/20\n",
      "\u001b[1m750/750\u001b[0m \u001b[32m━━━━━━━━━━━━━━━━━━━━\u001b[0m\u001b[37m\u001b[0m \u001b[1m5s\u001b[0m 7ms/step - accuracy: 1.0000 - loss: 1.6808e-08 - val_accuracy: 1.0000 - val_loss: 1.6912e-07\n",
      "Epoch 18/20\n",
      "\u001b[1m750/750\u001b[0m \u001b[32m━━━━━━━━━━━━━━━━━━━━\u001b[0m\u001b[37m\u001b[0m \u001b[1m5s\u001b[0m 7ms/step - accuracy: 1.0000 - loss: 1.9307e-08 - val_accuracy: 1.0000 - val_loss: 1.6998e-07\n",
      "Epoch 19/20\n",
      "\u001b[1m750/750\u001b[0m \u001b[32m━━━━━━━━━━━━━━━━━━━━\u001b[0m\u001b[37m\u001b[0m \u001b[1m5s\u001b[0m 7ms/step - accuracy: 1.0000 - loss: 1.9769e-08 - val_accuracy: 1.0000 - val_loss: 1.7042e-07\n",
      "Epoch 20/20\n",
      "\u001b[1m750/750\u001b[0m \u001b[32m━━━━━━━━━━━━━━━━━━━━\u001b[0m\u001b[37m\u001b[0m \u001b[1m6s\u001b[0m 7ms/step - accuracy: 1.0000 - loss: 2.1856e-08 - val_accuracy: 1.0000 - val_loss: 1.6957e-07\n"
     ]
    },
    {
     "data": {
      "image/png": "[encoded data removed]",
      "text/plain": [
       "<Figure size 640x480 with 1 Axes>"
      ]
     },
     "metadata": {},
     "output_type": "display_data"
    },
    {
     "data": {
      "image/png": "[encoded data removed]",
      "text/plain": [
       "<Figure size 640x480 with 1 Axes>"
      ]
     },
     "metadata": {},
     "output_type": "display_data"
    }
   ],
   "source": [
    "#train và test mô hình\n",
    "# Câu a vẽ ra các giá trị accuracy và loss của quá trình train và validation khi cho epoch = 20\n",
    "history = models.fit(train_images, train_labels, epochs=20, batch_size=64, validation_split=0.2)\n",
    "acc = history.history['accuracy']\n",
    "val_acc = history.history['val_accuracy']\n",
    "loss = history.history['loss']\n",
    "val_loss = history.history['val_loss']\n",
    "epochs = range(1, len(acc) + 1)\n",
    "plt.plot(epochs, acc, 'bo', label='Training acc')\n",
    "plt.plot(epochs, val_acc, 'b', label='Validation acc')\n",
    "plt.title('Training and validation accuracy')\n",
    "plt.legend()\n",
    "plt.figure()\n",
    "plt.plot(epochs, loss, 'bo', label='Training loss')\n",
    "plt.plot(epochs, val_loss, 'b', label='Validation loss')\n",
    "plt.title('Training and validation loss')\n",
    "plt.legend()\n",
    "plt.show()"
   ]
  },
  {
   "cell_type": "markdown",
   "id": "abd09209",
   "metadata": {},
   "source": [
    "Bài tập thực hành. \n",
    "\n",
    "a)  Bổ sung thêm các lệnh để vẽ ra các giá trị accuracy và loss của quá trình train và validation khi cho epoch = 20. Trình bày kết quả thu được vào báo cáo. \n",
    "\n",
    "b)  Thay đổi cấu trúc mô hình và các tham số để thu được kết quả tốt hơn chương trình mẫu. Trình bày chương trình và kết quả vào báo cáo."
   ]
  },
  {
   "cell_type": "markdown",
   "id": "a7fbb3ba",
   "metadata": {},
   "source": [
    "Thay đổi cấu trúc mô hình\n",
    "- Thêm BatchNormalization:\n",
    "Sau mỗi lớp Conv2D (và trước/lớp activation) giúp ổn định quá trình huấn luyện và giảm overfitting.\n",
    "\n",
    "-Thêm Dropout:\n",
    "Sau các lớp pooling hoặc sau lớp Dense để ngăn chặn overfitting, đặc biệt khi mô hình trở nên phức tạp hơn.\n",
    "\n",
    "-Tăng số lượng bộ lọc (filters) và tăng số neuron ở lớp Dense:\n",
    "Ví dụ, chuyển từ 32 → 64 ở một số lớp, và tăng số neuron ở lớp Dense để học được nhiều đặc trưng hơn.\n",
    "\n"
   ]
  }
 ],
 "metadata": {
  "kernelspec": {
   "display_name": "Python 3",
   "language": "python",
   "name": "python3"
  },
  "language_info": {
   "codemirror_mode": {
    "name": "ipython",
    "version": 3
   },
   "file_extension": ".py",
   "mimetype": "text/x-python",
   "name": "python",
   "nbconvert_exporter": "python",
   "pygments_lexer": "ipython3",
   "version": "3.10.0"
  }
 },
 "nbformat": 4,
 "nbformat_minor": 5
}
